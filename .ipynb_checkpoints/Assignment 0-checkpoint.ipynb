{
 "cells": [
  {
   "cell_type": "code",
   "execution_count": 81,
   "metadata": {},
   "outputs": [],
   "source": [
    "import csv\n",
    "articles = [\"trade-wars-news1.txt\",\"trade-wars-news2.txt\",\"trade-wars-news3.txt\",\"trade-wars-news4.txt\",\"trade-wars-news5.txt\"]\n",
    "txts = []\n",
    "for article in articles:\n",
    "    with open(article,\"r\",encoding = \"UTF-8\")as f:\n",
    "        content = f.read()\n",
    "        txts.append(content)\n",
    "#print(txts)\n",
    "vocabulary = []\n",
    "#Bonus stop_words\n",
    "stop_words = [\"the\", \"and\", \"of\", \"a\", \"in\",\"to\",\"as\",\"is\",\"on\",\"that\",\"with\",\"The\",\"for\",\"it\",\"has\",\"are\",\"not\",\"have\",\"its\",\"from\",\"would\",\"be\",\"at\",\"an\",\"which\",\"by\",\"this\",\"up\",\"said\",\"also\",\"will\",\"more\",\"about\",\"was\",\"last\",\"been\",\"they\",\"see\",\"if\",\"In\",\"I\",\"but\",\"he\"]\n",
    "for i in range(5):\n",
    "    words = txts[i].split()\n",
    "    for word in words:\n",
    "        if word not in stop_words:\n",
    "            vocabulary.append(word)\n",
    "        \n",
    "#print(vocabulary)\n",
    "frequency = {}\n",
    "for i in vocabulary:\n",
    "    if i not in frequency:\n",
    "        frequency[i] = 1\n",
    "    if i in frequency:\n",
    "        frequency[i] = frequency[i]+1\n",
    "#print(frequency)\n",
    "result = sorted(frequency.items(),key = lambda frequency:frequency[1],reverse = True)\n",
    "result = result[0:15]\n",
    "#print(result)\n",
    "with open(\"vocabulary.csv\",\"w\", newline = \"\")as f:\n",
    "    header = [\"Word\",\"Frequency\"]\n",
    "    mywriter = csv.writer(f)\n",
    "    mywriter.writerow(header)\n",
    "    mywriter.writerows(result)\n"
   ]
  },
  {
   "cell_type": "code",
   "execution_count": 80,
   "metadata": {},
   "outputs": [],
   "source": [
    "#Bonus\n",
    "articles = [\"trade-wars-news1.txt\",\"trade-wars-news2.txt\",\"trade-wars-news3.txt\",\"trade-wars-news4.txt\",\"trade-wars-news5.txt\"]\n",
    "stop_words = [\"the\", \"and\", \"of\", \"a\", \"in\",\"to\",\"as\",\"is\",\"on\",\"that\",\"with\",\"The\",\"for\",\"it\",\"has\",\"are\",\"not\",\"have\",\"its\",\"from\",\"would\",\"be\",\"at\",\"an\",\"which\",\"by\",\"this\",\"up\",\"said\",\"also\",\"will\",\"more\",\"about\",\"was\",\"last\",\"been\",\"they\",\"see\",\"if\",\"In\",\"I\",\"but\",\"he\"]\n",
    "\n",
    "def sortWords(articles,stop_words):\n",
    "    import csv\n",
    "    txts = []\n",
    "    for article in articles:\n",
    "        with open(article,\"r\",encoding = \"UTF-8\")as f:\n",
    "            content = f.read()\n",
    "            txts.append(content)\n",
    "   \n",
    "    vocabulary = []\n",
    "    for i in range(len(articles)):\n",
    "        words = txts[i].split()\n",
    "        for word in words:\n",
    "            if word not in stop_words:\n",
    "                vocabulary.append(word)\n",
    "\n",
    "    frequency = {}\n",
    "    for i in vocabulary:\n",
    "        if i not in frequency:\n",
    "            frequency[i] = 1\n",
    "        if i in frequency:\n",
    "            frequency[i] = frequency[i]+1\n",
    "  \n",
    "    result = sorted(frequency.items(),key = lambda frequency:frequency[1],reverse = True)\n",
    "\n",
    "    with open(\"vocabularydef.csv\",\"w\", newline = \"\")as f:\n",
    "        header = [\"Word\",\"Frequency\"]\n",
    "        mywriter = csv.writer(f)\n",
    "        mywriter.writerow(header)\n",
    "        mywriter.writerows(result)\n",
    "\n",
    "        \n",
    "\n",
    "sortWords(articles,stop_words)"
   ]
  },
  {
   "cell_type": "code",
   "execution_count": null,
   "metadata": {},
   "outputs": [],
   "source": []
  }
 ],
 "metadata": {
  "kernelspec": {
   "display_name": "Python 3",
   "language": "python",
   "name": "python3"
  },
  "language_info": {
   "codemirror_mode": {
    "name": "ipython",
    "version": 3
   },
   "file_extension": ".py",
   "mimetype": "text/x-python",
   "name": "python",
   "nbconvert_exporter": "python",
   "pygments_lexer": "ipython3",
   "version": "3.6.5"
  }
 },
 "nbformat": 4,
 "nbformat_minor": 2
}
